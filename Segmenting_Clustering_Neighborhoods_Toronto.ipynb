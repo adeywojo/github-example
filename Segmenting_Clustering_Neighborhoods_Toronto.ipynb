{
 "cells": [
  {
   "cell_type": "markdown",
   "metadata": {},
   "source": [
    "# Segmenting and Clustering Neighborhoods in Toronto"
   ]
  },
  {
   "cell_type": "markdown",
   "metadata": {},
   "source": [
    "### Part 1"
   ]
  },
  {
   "cell_type": "code",
   "execution_count": null,
   "metadata": {},
   "outputs": [],
   "source": [
    "# Import Libraries\n",
    "import pandas as pd\n",
    "import numpy as np"
   ]
  },
  {
   "cell_type": "code",
   "execution_count": null,
   "metadata": {},
   "outputs": [],
   "source": [
    "# Read data into a dataframe\n",
    "df=pd.read_html(\"https://en.wikipedia.org/wiki/List_of_postal_codes_of_Canada:_M\")[0]"
   ]
  },
  {
   "cell_type": "code",
   "execution_count": null,
   "metadata": {},
   "outputs": [],
   "source": [
    "# Remove Rows with Unassigned Borough\n",
    "df = df[(df.Borough != 'Not assigned')]"
   ]
  },
  {
   "cell_type": "code",
   "execution_count": null,
   "metadata": {},
   "outputs": [],
   "source": [
    "# Replace Not assigned neighbourhood with borough name\n",
    "df.loc[df['Neighbourhood'] == ('Not assigned'), 'Neighbourhood'] = df['Borough']\n",
    "\n",
    "# Rename column\n",
    "df = df.rename(columns = {'Postcode' : 'PostalCode'})"
   ]
  },
  {
   "cell_type": "code",
   "execution_count": null,
   "metadata": {},
   "outputs": [],
   "source": [
    "# Group borough by postcode and reset index\n",
    "df = df.groupby(['PostalCode','Borough'], sort = False).agg(lambda x: ','.join(x))\n",
    "df.reset_index(level=['PostalCode','Borough'], inplace=True)"
   ]
  },
  {
   "cell_type": "code",
   "execution_count": null,
   "metadata": {},
   "outputs": [],
   "source": [
    "df.shape"
   ]
  },
  {
   "cell_type": "markdown",
   "metadata": {},
   "source": [
    "### Part 2"
   ]
  },
  {
   "cell_type": "code",
   "execution_count": null,
   "metadata": {},
   "outputs": [],
   "source": [
    "# Read Geospatial data into dataframe\n",
    "geo_data = pd.read_csv('https://cocl.us/Geospatial_data')"
   ]
  },
  {
   "cell_type": "code",
   "execution_count": null,
   "metadata": {},
   "outputs": [],
   "source": [
    "geo_data.head()"
   ]
  },
  {
   "cell_type": "code",
   "execution_count": null,
   "metadata": {},
   "outputs": [],
   "source": [
    "# Merge Dataframes\n",
    "data = pd.merge(df, geo_data, left_on='Postalcode', right_on='Postal Code')"
   ]
  },
  {
   "cell_type": "code",
   "execution_count": null,
   "metadata": {},
   "outputs": [],
   "source": [
    "# Delete redundant column Postal Code\n",
    "del data['Postal Code']"
   ]
  },
  {
   "cell_type": "code",
   "execution_count": null,
   "metadata": {},
   "outputs": [],
   "source": [
    "data.head()"
   ]
  },
  {
   "cell_type": "markdown",
   "metadata": {},
   "source": [
    "### Part 3"
   ]
  },
  {
   "cell_type": "code",
   "execution_count": null,
   "metadata": {},
   "outputs": [],
   "source": [
    "# import libraries \n",
    "import numpy as np # library to handle data in a vectorized manner\n",
    "\n",
    "import pandas as pd # library for data analsysis\n",
    "pd.set_option('display.max_columns', None)\n",
    "pd.set_option('display.max_rows', None)\n",
    "\n",
    "!conda install -c conda-forge geopy --yes \n",
    "from geopy.geocoders import Nominatim # convert an address into latitude and longitude values\n",
    "\n",
    "import json # library to handle JSON files\n",
    "\n",
    "import requests # library to handle requests\n",
    "from pandas.io.json import json_normalize # tranform JSON file into a pandas dataframe\n",
    "\n",
    "# Matplotlib and associated plotting modules\n",
    "import matplotlib.cm as cm\n",
    "import matplotlib.colors as colors\n",
    "\n",
    "# import k-means from clustering stage\n",
    "from sklearn.cluster import KMeans\n",
    "\n",
    "!conda install -c conda-forge folium=0.5.0 --yes \n",
    "import folium # map rendering library\n",
    "\n",
    "print('Libraries imported.')"
   ]
  },
  {
   "cell_type": "markdown",
   "metadata": {},
   "source": [
    "#### Get the Longitude & Latitude to create a map of Toronto"
   ]
  },
  {
   "cell_type": "code",
   "execution_count": null,
   "metadata": {},
   "outputs": [],
   "source": [
    "address = 'Toronto, Canada'\n",
    "\n",
    "geolocator = Nominatim(user_agent=\"toronto_explorer\")\n",
    "location = geolocator.geocode(address)\n",
    "latitude = location.latitude\n",
    "longitude = location.longitude\n",
    "print('The geograpical coordinate of Toronto are {}, {}.'.format(latitude, longitude))"
   ]
  },
  {
   "cell_type": "code",
   "execution_count": null,
   "metadata": {},
   "outputs": [],
   "source": [
    "# create map of Toronto using latitude and longitude values\n",
    "map_toronto = folium.Map(location=[latitude, longitude], zoom_start=10)\n",
    "\n",
    "# add markers to map\n",
    "for lat, lng, borough, neighbourhood in zip(data['Latitude'], data['Longitude'], data['Borough'], data['Neighbourhood']):\n",
    "    label = '{}, {}'.format(neighbourhood, borough)\n",
    "    label = folium.Popup(label, parse_html=True)\n",
    "    folium.CircleMarker(\n",
    "        [lat, lng],\n",
    "        radius=5,\n",
    "        popup=label,\n",
    "        color='blue',\n",
    "        fill=True,\n",
    "        fill_color='#3186cc',\n",
    "        fill_opacity=0.7,\n",
    "        parse_html=False).add_to(map_toronto)  \n",
    "    \n",
    "map_toronto"
   ]
  },
  {
   "cell_type": "markdown",
   "metadata": {},
   "source": [
    "#### Create a new dataframe that contains neighbourhoods in the Toronto borough"
   ]
  },
  {
   "cell_type": "code",
   "execution_count": null,
   "metadata": {},
   "outputs": [],
   "source": [
    "toronto_data = data[data['Borough'].str.contains('Toronto')].reset_index(drop=True)\n",
    "toronto_data.head()"
   ]
  },
  {
   "cell_type": "code",
   "execution_count": null,
   "metadata": {},
   "outputs": [],
   "source": [
    "address = 'Toronto, Toronto'\n",
    "\n",
    "geolocator = Nominatim(user_agent=\"toronto_explorer\")\n",
    "location = geolocator.geocode(address)\n",
    "latitude = location.latitude\n",
    "longitude = location.longitude\n",
    "print('The geograpical coordinate of Toronto Borough are {}, {}.'.format(latitude, longitude))"
   ]
  },
  {
   "cell_type": "code",
   "execution_count": null,
   "metadata": {},
   "outputs": [],
   "source": [
    "# create map of Toronto Borough using latitude and longitude values\n",
    "map_toronto_ = folium.Map(location=[latitude, longitude], zoom_start=11)\n",
    "\n",
    "# add markers to map\n",
    "for lat, lng, label in zip(toronto_data['Latitude'], toronto_data['Longitude'], toronto_data['Neighbourhood']):\n",
    "    label = folium.Popup(label, parse_html=True)\n",
    "    folium.CircleMarker(\n",
    "        [lat, lng],\n",
    "        radius=5,\n",
    "        popup=label,\n",
    "        color='blue',\n",
    "        fill=True,\n",
    "        fill_color='#3186cc',\n",
    "        fill_opacity=0.7,\n",
    "        parse_html=False).add_to(map_toronto_)  \n",
    "    \n",
    "map_toronto_"
   ]
  },
  {
   "cell_type": "markdown",
   "metadata": {},
   "source": [
    "#### Define FourSquare Credentials and Version"
   ]
  },
  {
   "cell_type": "code",
   "execution_count": null,
   "metadata": {},
   "outputs": [],
   "source": [
    "CLIENT_ID = 'UYMKCHYL54FW2SFZOGLGUDLR0F441WWKEVH45SM5MAYXTBIQ'\n",
    "CLIENT_SECRET = 'AOXXD24PEYNEBU1PKMG4EDJ0UISQ0DZ5CFVDN3T3EUAICMJY' \n",
    "VERSION = '20180605' # Foursquare API version\n",
    "\n",
    "print('Your credentails:')\n",
    "print('CLIENT_ID: ' + CLIENT_ID)\n",
    "print('CLIENT_SECRET:' + CLIENT_SECRET)"
   ]
  },
  {
   "cell_type": "markdown",
   "metadata": {},
   "source": [
    "##### Explore Neighbourhoods"
   ]
  },
  {
   "cell_type": "code",
   "execution_count": null,
   "metadata": {},
   "outputs": [],
   "source": [
    "toronto_data.loc[0, 'Neighbourhood'] # first neighbourhood in the dataframe"
   ]
  },
  {
   "cell_type": "markdown",
   "metadata": {},
   "source": [
    "##### Get the Longitude & Latitude of the first neighbourhood in the dataframe"
   ]
  },
  {
   "cell_type": "code",
   "execution_count": null,
   "metadata": {},
   "outputs": [],
   "source": [
    "neighbourhood_latitude = toronto_data.loc[0, 'Latitude'] # neighborhood latitude value\n",
    "neighbourhood_longitude = toronto_data.loc[0, 'Longitude'] # neighborhood longitude value\n",
    "\n",
    "neighbourhood_name = toronto_data.loc[0, 'Neighbourhood'] # neighborhood name\n",
    "\n",
    "print('Latitude and longitude values of {} are {}, {}.'.format(neighbourhood_name, \n",
    "                                                               neighbourhood_latitude, \n",
    "                                                               neighbourhood_longitude))"
   ]
  },
  {
   "cell_type": "code",
   "execution_count": null,
   "metadata": {},
   "outputs": [],
   "source": [
    "# Get the top 50 venues in the neighbourhoods within a radius of 500 meters\n",
    "\n",
    "radius = 500\n",
    "LIMIT = 50\n",
    "url = 'https://api.foursquare.com/v2/venues/explore?client_id={}&client_secret={}&ll={},{}&v={}&radius={}&limit={}'.format(CLIENT_ID, CLIENT_SECRET, neighbourhood_latitude, neighbourhood_longitude, VERSION, radius, LIMIT)\n",
    "url"
   ]
  },
  {
   "cell_type": "code",
   "execution_count": null,
   "metadata": {},
   "outputs": [],
   "source": [
    "# Send the GET request\n",
    "results = requests.get(url).json()\n",
    "results"
   ]
  },
  {
   "cell_type": "code",
   "execution_count": null,
   "metadata": {},
   "outputs": [],
   "source": [
    "# function that extracts the category of the venue\n",
    "def get_category_type(row):\n",
    "    try:\n",
    "        categories_list = row['categories']\n",
    "    except:\n",
    "        categories_list = row['venue.categories']\n",
    "        \n",
    "    if len(categories_list) == 0:\n",
    "        return None\n",
    "    else:\n",
    "        return categories_list[0]['name']"
   ]
  },
  {
   "cell_type": "code",
   "execution_count": null,
   "metadata": {},
   "outputs": [],
   "source": [
    "venues = results['response']['groups'][0]['items']\n",
    "    \n",
    "nearby_venues = json_normalize(venues) # flatten JSON\n",
    "\n",
    "# filter columns\n",
    "filtered_columns = ['venue.name', 'venue.categories', 'venue.location.lat', 'venue.location.lng']\n",
    "nearby_venues =nearby_venues.loc[:, filtered_columns]\n",
    "\n",
    "# filter the category for each row\n",
    "nearby_venues['venue.categories'] = nearby_venues.apply(get_category_type, axis=1)\n",
    "\n",
    "# clean columns\n",
    "nearby_venues.columns = [col.split(\".\")[-1] for col in nearby_venues.columns]\n",
    "\n",
    "nearby_venues.head()"
   ]
  },
  {
   "cell_type": "code",
   "execution_count": null,
   "metadata": {},
   "outputs": [],
   "source": [
    "print('{} venues were returned by Foursquare.'.format(nearby_venues.shape[0]))"
   ]
  },
  {
   "cell_type": "markdown",
   "metadata": {},
   "source": [
    "#### Explore Neighbourhoods in Toronto Borough"
   ]
  },
  {
   "cell_type": "code",
   "execution_count": null,
   "metadata": {},
   "outputs": [],
   "source": [
    "def getNearbyVenues(names, latitudes, longitudes, radius=500):\n",
    "    \n",
    "    venues_list=[]\n",
    "    for name, lat, lng in zip(names, latitudes, longitudes):\n",
    "        print(name)\n",
    "            \n",
    "        # create the API request URL\n",
    "        url = 'https://api.foursquare.com/v2/venues/explore?&client_id={}&client_secret={}&v={}&ll={},{}&radius={}&limit={}'.format(\n",
    "            CLIENT_ID, \n",
    "            CLIENT_SECRET, \n",
    "            VERSION, \n",
    "            lat, \n",
    "            lng, \n",
    "            radius, \n",
    "            LIMIT)\n",
    "            \n",
    "        # make the GET request\n",
    "        results = requests.get(url).json()[\"response\"]['groups'][0]['items']\n",
    "        \n",
    "        # return only relevant information for each nearby venue\n",
    "        venues_list.append([(\n",
    "            name, \n",
    "            lat, \n",
    "            lng, \n",
    "            v['venue']['name'], \n",
    "            v['venue']['location']['lat'], \n",
    "            v['venue']['location']['lng'],  \n",
    "            v['venue']['categories'][0]['name']) for v in results])\n",
    "\n",
    "    nearby_venues = pd.DataFrame([item for venue_list in venues_list for item in venue_list])\n",
    "    nearby_venues.columns = ['Neighbourhood', \n",
    "                  'Neighbourhood Latitude', \n",
    "                  'Neighbourhood Longitude', \n",
    "                  'Venue', \n",
    "                  'Venue Latitude', \n",
    "                  'Venue Longitude', \n",
    "                  'Venue Category']\n",
    "    \n",
    "    return(nearby_venues)"
   ]
  },
  {
   "cell_type": "markdown",
   "metadata": {},
   "source": [
    "##### Create a new dataframe for the Toronoto Venues"
   ]
  },
  {
   "cell_type": "code",
   "execution_count": null,
   "metadata": {},
   "outputs": [],
   "source": [
    "toronto_venues = getNearbyVenues(names=toronto_data['Neighbourhood'],\n",
    "                                   latitudes=toronto_data['Latitude'],\n",
    "                                   longitudes=toronto_data['Longitude']\n",
    "                                  )"
   ]
  },
  {
   "cell_type": "code",
   "execution_count": null,
   "metadata": {},
   "outputs": [],
   "source": [
    "# Check size of dataframe\n",
    "print(toronto_venues.shape)\n",
    "toronto_venues.head()"
   ]
  },
  {
   "cell_type": "code",
   "execution_count": null,
   "metadata": {},
   "outputs": [],
   "source": [
    "# Number of venues per neighbourhood\n",
    "toronto_venues.groupby('Neighbourhood').count()"
   ]
  },
  {
   "cell_type": "code",
   "execution_count": null,
   "metadata": {},
   "outputs": [],
   "source": [
    "# Number of unique venue categories\n",
    "print('There are {} uniques categories.'.format(len(toronto_venues['Venue Category'].unique())))"
   ]
  },
  {
   "cell_type": "markdown",
   "metadata": {},
   "source": [
    "#### Analyze each neighbourhood"
   ]
  },
  {
   "cell_type": "code",
   "execution_count": null,
   "metadata": {},
   "outputs": [],
   "source": [
    "# one hot encoding\n",
    "toronto_onehot = pd.get_dummies(toronto_venues[['Venue Category']], prefix=\"\", prefix_sep=\"\")\n",
    "\n",
    "# add neighborhood column back to dataframe\n",
    "toronto_onehot['Neighbourhood'] = toronto_venues['Neighbourhood'] \n",
    "\n",
    "# move neighborhood column to the first column\n",
    "fixed_columns = [toronto_onehot.columns[-1]] + list(toronto_onehot.columns[:-1])\n",
    "toronto_onehot = toronto_onehot[fixed_columns]\n",
    "\n",
    "toronto_onehot.head()"
   ]
  },
  {
   "cell_type": "code",
   "execution_count": null,
   "metadata": {},
   "outputs": [],
   "source": [
    "toronto_onehot.shape"
   ]
  },
  {
   "cell_type": "markdown",
   "metadata": {},
   "source": [
    "#### Group each neighbourhood"
   ]
  },
  {
   "cell_type": "code",
   "execution_count": null,
   "metadata": {},
   "outputs": [],
   "source": [
    "toronto_grouped = toronto_onehot.groupby('Neighbourhood').mean().reset_index()\n",
    "toronto_grouped"
   ]
  },
  {
   "cell_type": "code",
   "execution_count": null,
   "metadata": {},
   "outputs": [],
   "source": [
    "# COnfirm new size\n",
    "toronto_grouped.shape"
   ]
  },
  {
   "cell_type": "markdown",
   "metadata": {},
   "source": [
    "#### Top 5 venues in each neighbourhood"
   ]
  },
  {
   "cell_type": "code",
   "execution_count": null,
   "metadata": {},
   "outputs": [],
   "source": [
    "num_top_venues = 5\n",
    "\n",
    "for hood in toronto_grouped['Neighbourhood']:\n",
    "    print(\"----\"+hood+\"----\")\n",
    "    temp = toronto_grouped[toronto_grouped['Neighbourhood'] == hood].T.reset_index()\n",
    "    temp.columns = ['venue','freq']\n",
    "    temp = temp.iloc[1:]\n",
    "    temp['freq'] = temp['freq'].astype(float)\n",
    "    temp = temp.round({'freq': 2})\n",
    "    print(temp.sort_values('freq', ascending=False).reset_index(drop=True).head(num_top_venues))\n",
    "    print('\\n')"
   ]
  },
  {
   "cell_type": "code",
   "execution_count": 178,
   "metadata": {},
   "outputs": [],
   "source": [
    "# function to sort the venues in descending order\n",
    "def return_most_common_venues(row, num_top_venues):\n",
    "    row_categories = row.iloc[1:]\n",
    "    row_categories_sorted = row_categories.sort_values(ascending=False)\n",
    "    \n",
    "    return row_categories_sorted.index.values[0:num_top_venues]"
   ]
  },
  {
   "cell_type": "markdown",
   "metadata": {},
   "source": [
    "#### New dataframe with top 10 venues in each neighbourhood"
   ]
  },
  {
   "cell_type": "code",
   "execution_count": 180,
   "metadata": {},
   "outputs": [
    {
     "data": {
      "text/html": [
       "<div>\n",
       "<style scoped>\n",
       "    .dataframe tbody tr th:only-of-type {\n",
       "        vertical-align: middle;\n",
       "    }\n",
       "\n",
       "    .dataframe tbody tr th {\n",
       "        vertical-align: top;\n",
       "    }\n",
       "\n",
       "    .dataframe thead th {\n",
       "        text-align: right;\n",
       "    }\n",
       "</style>\n",
       "<table border=\"1\" class=\"dataframe\">\n",
       "  <thead>\n",
       "    <tr style=\"text-align: right;\">\n",
       "      <th></th>\n",
       "      <th>Neighbourhood</th>\n",
       "      <th>1st Most Common Venue</th>\n",
       "      <th>2nd Most Common Venue</th>\n",
       "      <th>3rd Most Common Venue</th>\n",
       "      <th>4th Most Common Venue</th>\n",
       "      <th>5th Most Common Venue</th>\n",
       "      <th>6th Most Common Venue</th>\n",
       "      <th>7th Most Common Venue</th>\n",
       "      <th>8th Most Common Venue</th>\n",
       "      <th>9th Most Common Venue</th>\n",
       "      <th>10th Most Common Venue</th>\n",
       "    </tr>\n",
       "  </thead>\n",
       "  <tbody>\n",
       "    <tr>\n",
       "      <td>0</td>\n",
       "      <td>Adelaide,King,Richmond</td>\n",
       "      <td>Coffee Shop</td>\n",
       "      <td>Café</td>\n",
       "      <td>Steakhouse</td>\n",
       "      <td>Bar</td>\n",
       "      <td>American Restaurant</td>\n",
       "      <td>Gastropub</td>\n",
       "      <td>Pizza Place</td>\n",
       "      <td>Asian Restaurant</td>\n",
       "      <td>Hotel</td>\n",
       "      <td>Breakfast Spot</td>\n",
       "    </tr>\n",
       "    <tr>\n",
       "      <td>1</td>\n",
       "      <td>Berczy Park</td>\n",
       "      <td>Coffee Shop</td>\n",
       "      <td>Cocktail Bar</td>\n",
       "      <td>Steakhouse</td>\n",
       "      <td>Farmers Market</td>\n",
       "      <td>Bakery</td>\n",
       "      <td>Beer Bar</td>\n",
       "      <td>Cheese Shop</td>\n",
       "      <td>Café</td>\n",
       "      <td>Seafood Restaurant</td>\n",
       "      <td>Beach</td>\n",
       "    </tr>\n",
       "    <tr>\n",
       "      <td>2</td>\n",
       "      <td>Brockton,Exhibition Place,Parkdale Village</td>\n",
       "      <td>Coffee Shop</td>\n",
       "      <td>Café</td>\n",
       "      <td>Breakfast Spot</td>\n",
       "      <td>Grocery Store</td>\n",
       "      <td>Intersection</td>\n",
       "      <td>Pet Store</td>\n",
       "      <td>Climbing Gym</td>\n",
       "      <td>Restaurant</td>\n",
       "      <td>Caribbean Restaurant</td>\n",
       "      <td>Burrito Place</td>\n",
       "    </tr>\n",
       "    <tr>\n",
       "      <td>3</td>\n",
       "      <td>Business Reply Mail Processing Centre 969 Eastern</td>\n",
       "      <td>Light Rail Station</td>\n",
       "      <td>Yoga Studio</td>\n",
       "      <td>Auto Workshop</td>\n",
       "      <td>Pizza Place</td>\n",
       "      <td>Restaurant</td>\n",
       "      <td>Butcher</td>\n",
       "      <td>Burrito Place</td>\n",
       "      <td>Brewery</td>\n",
       "      <td>Skate Park</td>\n",
       "      <td>Smoke Shop</td>\n",
       "    </tr>\n",
       "    <tr>\n",
       "      <td>4</td>\n",
       "      <td>CN Tower,Bathurst Quay,Island airport,Harbourf...</td>\n",
       "      <td>Airport Service</td>\n",
       "      <td>Airport Terminal</td>\n",
       "      <td>Harbor / Marina</td>\n",
       "      <td>Sculpture Garden</td>\n",
       "      <td>Airport Food Court</td>\n",
       "      <td>Airport Gate</td>\n",
       "      <td>Airport Lounge</td>\n",
       "      <td>Bar</td>\n",
       "      <td>Boat or Ferry</td>\n",
       "      <td>Boutique</td>\n",
       "    </tr>\n",
       "  </tbody>\n",
       "</table>\n",
       "</div>"
      ],
      "text/plain": [
       "                                       Neighbourhood 1st Most Common Venue  \\\n",
       "0                             Adelaide,King,Richmond           Coffee Shop   \n",
       "1                                        Berczy Park           Coffee Shop   \n",
       "2         Brockton,Exhibition Place,Parkdale Village           Coffee Shop   \n",
       "3  Business Reply Mail Processing Centre 969 Eastern    Light Rail Station   \n",
       "4  CN Tower,Bathurst Quay,Island airport,Harbourf...       Airport Service   \n",
       "\n",
       "  2nd Most Common Venue 3rd Most Common Venue 4th Most Common Venue  \\\n",
       "0                  Café            Steakhouse                   Bar   \n",
       "1          Cocktail Bar            Steakhouse        Farmers Market   \n",
       "2                  Café        Breakfast Spot         Grocery Store   \n",
       "3           Yoga Studio         Auto Workshop           Pizza Place   \n",
       "4      Airport Terminal       Harbor / Marina      Sculpture Garden   \n",
       "\n",
       "  5th Most Common Venue 6th Most Common Venue 7th Most Common Venue  \\\n",
       "0   American Restaurant             Gastropub           Pizza Place   \n",
       "1                Bakery              Beer Bar           Cheese Shop   \n",
       "2          Intersection             Pet Store          Climbing Gym   \n",
       "3            Restaurant               Butcher         Burrito Place   \n",
       "4    Airport Food Court          Airport Gate        Airport Lounge   \n",
       "\n",
       "  8th Most Common Venue 9th Most Common Venue 10th Most Common Venue  \n",
       "0      Asian Restaurant                 Hotel         Breakfast Spot  \n",
       "1                  Café    Seafood Restaurant                  Beach  \n",
       "2            Restaurant  Caribbean Restaurant          Burrito Place  \n",
       "3               Brewery            Skate Park             Smoke Shop  \n",
       "4                   Bar         Boat or Ferry               Boutique  "
      ]
     },
     "execution_count": 180,
     "metadata": {},
     "output_type": "execute_result"
    }
   ],
   "source": [
    "num_top_venues = 10\n",
    "\n",
    "indicators = ['st', 'nd', 'rd']\n",
    "\n",
    "# create columns according to number of top venues\n",
    "columns = ['Neighbourhood']\n",
    "for ind in np.arange(num_top_venues):\n",
    "    try:\n",
    "        columns.append('{}{} Most Common Venue'.format(ind+1, indicators[ind]))\n",
    "    except:\n",
    "        columns.append('{}th Most Common Venue'.format(ind+1))\n",
    "\n",
    "# create a new dataframe\n",
    "neighbourhoods_venues_sorted = pd.DataFrame(columns=columns)\n",
    "neighbourhoods_venues_sorted['Neighbourhood'] = toronto_grouped['Neighbourhood']\n",
    "\n",
    "for ind in np.arange(toronto_grouped.shape[0]):\n",
    "    neighbourhoods_venues_sorted.iloc[ind, 1:] = return_most_common_venues(toronto_grouped.iloc[ind, :], num_top_venues)\n",
    "\n",
    "neighbourhoods_venues_sorted.head()"
   ]
  },
  {
   "cell_type": "markdown",
   "metadata": {},
   "source": [
    "#### Cluster Neighbourhoods"
   ]
  },
  {
   "cell_type": "code",
   "execution_count": 181,
   "metadata": {},
   "outputs": [
    {
     "data": {
      "text/plain": [
       "array([0, 0, 0, 0, 0, 0, 0, 0, 0, 0], dtype=int32)"
      ]
     },
     "execution_count": 181,
     "metadata": {},
     "output_type": "execute_result"
    }
   ],
   "source": [
    "# set number of clusters\n",
    "kclusters = 5\n",
    "\n",
    "toronto_grouped_clustering = toronto_grouped.drop('Neighbourhood', 1)\n",
    "\n",
    "# run k-means clustering\n",
    "kmeans = KMeans(n_clusters=kclusters, random_state=0).fit(toronto_grouped_clustering)\n",
    "\n",
    "# check cluster labels generated for each row in the dataframe\n",
    "kmeans.labels_[0:10] "
   ]
  },
  {
   "cell_type": "code",
   "execution_count": 183,
   "metadata": {},
   "outputs": [
    {
     "data": {
      "text/html": [
       "<div>\n",
       "<style scoped>\n",
       "    .dataframe tbody tr th:only-of-type {\n",
       "        vertical-align: middle;\n",
       "    }\n",
       "\n",
       "    .dataframe tbody tr th {\n",
       "        vertical-align: top;\n",
       "    }\n",
       "\n",
       "    .dataframe thead th {\n",
       "        text-align: right;\n",
       "    }\n",
       "</style>\n",
       "<table border=\"1\" class=\"dataframe\">\n",
       "  <thead>\n",
       "    <tr style=\"text-align: right;\">\n",
       "      <th></th>\n",
       "      <th>PostalCode</th>\n",
       "      <th>Borough</th>\n",
       "      <th>Neighbourhood</th>\n",
       "      <th>Latitude</th>\n",
       "      <th>Longitude</th>\n",
       "      <th>Cluster Labels</th>\n",
       "      <th>1st Most Common Venue</th>\n",
       "      <th>2nd Most Common Venue</th>\n",
       "      <th>3rd Most Common Venue</th>\n",
       "      <th>4th Most Common Venue</th>\n",
       "      <th>5th Most Common Venue</th>\n",
       "      <th>6th Most Common Venue</th>\n",
       "      <th>7th Most Common Venue</th>\n",
       "      <th>8th Most Common Venue</th>\n",
       "      <th>9th Most Common Venue</th>\n",
       "      <th>10th Most Common Venue</th>\n",
       "    </tr>\n",
       "  </thead>\n",
       "  <tbody>\n",
       "    <tr>\n",
       "      <td>0</td>\n",
       "      <td>M5A</td>\n",
       "      <td>Downtown Toronto</td>\n",
       "      <td>Harbourfront,Regent Park</td>\n",
       "      <td>43.654260</td>\n",
       "      <td>-79.360636</td>\n",
       "      <td>0</td>\n",
       "      <td>Coffee Shop</td>\n",
       "      <td>Park</td>\n",
       "      <td>Bakery</td>\n",
       "      <td>Pub</td>\n",
       "      <td>Café</td>\n",
       "      <td>Restaurant</td>\n",
       "      <td>Gym / Fitness Center</td>\n",
       "      <td>Breakfast Spot</td>\n",
       "      <td>Mexican Restaurant</td>\n",
       "      <td>Theater</td>\n",
       "    </tr>\n",
       "    <tr>\n",
       "      <td>1</td>\n",
       "      <td>M5B</td>\n",
       "      <td>Downtown Toronto</td>\n",
       "      <td>Ryerson,Garden District</td>\n",
       "      <td>43.657162</td>\n",
       "      <td>-79.378937</td>\n",
       "      <td>0</td>\n",
       "      <td>Coffee Shop</td>\n",
       "      <td>Café</td>\n",
       "      <td>Fast Food Restaurant</td>\n",
       "      <td>Ramen Restaurant</td>\n",
       "      <td>Clothing Store</td>\n",
       "      <td>Cosmetics Shop</td>\n",
       "      <td>Bookstore</td>\n",
       "      <td>Theater</td>\n",
       "      <td>Hotel</td>\n",
       "      <td>Beer Bar</td>\n",
       "    </tr>\n",
       "    <tr>\n",
       "      <td>2</td>\n",
       "      <td>M5C</td>\n",
       "      <td>Downtown Toronto</td>\n",
       "      <td>St. James Town</td>\n",
       "      <td>43.651494</td>\n",
       "      <td>-79.375418</td>\n",
       "      <td>0</td>\n",
       "      <td>Coffee Shop</td>\n",
       "      <td>Gastropub</td>\n",
       "      <td>Hotel</td>\n",
       "      <td>Café</td>\n",
       "      <td>Restaurant</td>\n",
       "      <td>Farmers Market</td>\n",
       "      <td>Park</td>\n",
       "      <td>Japanese Restaurant</td>\n",
       "      <td>Italian Restaurant</td>\n",
       "      <td>Cocktail Bar</td>\n",
       "    </tr>\n",
       "    <tr>\n",
       "      <td>3</td>\n",
       "      <td>M4E</td>\n",
       "      <td>East Toronto</td>\n",
       "      <td>The Beaches</td>\n",
       "      <td>43.676357</td>\n",
       "      <td>-79.293031</td>\n",
       "      <td>0</td>\n",
       "      <td>Neighborhood</td>\n",
       "      <td>Health Food Store</td>\n",
       "      <td>Trail</td>\n",
       "      <td>Pub</td>\n",
       "      <td>Other Great Outdoors</td>\n",
       "      <td>Yoga Studio</td>\n",
       "      <td>Ethiopian Restaurant</td>\n",
       "      <td>Electronics Store</td>\n",
       "      <td>Eastern European Restaurant</td>\n",
       "      <td>Dumpling Restaurant</td>\n",
       "    </tr>\n",
       "    <tr>\n",
       "      <td>4</td>\n",
       "      <td>M5E</td>\n",
       "      <td>Downtown Toronto</td>\n",
       "      <td>Berczy Park</td>\n",
       "      <td>43.644771</td>\n",
       "      <td>-79.373306</td>\n",
       "      <td>0</td>\n",
       "      <td>Coffee Shop</td>\n",
       "      <td>Cocktail Bar</td>\n",
       "      <td>Steakhouse</td>\n",
       "      <td>Farmers Market</td>\n",
       "      <td>Bakery</td>\n",
       "      <td>Beer Bar</td>\n",
       "      <td>Cheese Shop</td>\n",
       "      <td>Café</td>\n",
       "      <td>Seafood Restaurant</td>\n",
       "      <td>Beach</td>\n",
       "    </tr>\n",
       "  </tbody>\n",
       "</table>\n",
       "</div>"
      ],
      "text/plain": [
       "  PostalCode           Borough             Neighbourhood   Latitude  \\\n",
       "0        M5A  Downtown Toronto  Harbourfront,Regent Park  43.654260   \n",
       "1        M5B  Downtown Toronto   Ryerson,Garden District  43.657162   \n",
       "2        M5C  Downtown Toronto            St. James Town  43.651494   \n",
       "3        M4E      East Toronto               The Beaches  43.676357   \n",
       "4        M5E  Downtown Toronto               Berczy Park  43.644771   \n",
       "\n",
       "   Longitude  Cluster Labels 1st Most Common Venue 2nd Most Common Venue  \\\n",
       "0 -79.360636               0           Coffee Shop                  Park   \n",
       "1 -79.378937               0           Coffee Shop                  Café   \n",
       "2 -79.375418               0           Coffee Shop             Gastropub   \n",
       "3 -79.293031               0          Neighborhood     Health Food Store   \n",
       "4 -79.373306               0           Coffee Shop          Cocktail Bar   \n",
       "\n",
       "  3rd Most Common Venue 4th Most Common Venue 5th Most Common Venue  \\\n",
       "0                Bakery                   Pub                  Café   \n",
       "1  Fast Food Restaurant      Ramen Restaurant        Clothing Store   \n",
       "2                 Hotel                  Café            Restaurant   \n",
       "3                 Trail                   Pub  Other Great Outdoors   \n",
       "4            Steakhouse        Farmers Market                Bakery   \n",
       "\n",
       "  6th Most Common Venue 7th Most Common Venue 8th Most Common Venue  \\\n",
       "0            Restaurant  Gym / Fitness Center        Breakfast Spot   \n",
       "1        Cosmetics Shop             Bookstore               Theater   \n",
       "2        Farmers Market                  Park   Japanese Restaurant   \n",
       "3           Yoga Studio  Ethiopian Restaurant     Electronics Store   \n",
       "4              Beer Bar           Cheese Shop                  Café   \n",
       "\n",
       "         9th Most Common Venue 10th Most Common Venue  \n",
       "0           Mexican Restaurant                Theater  \n",
       "1                        Hotel               Beer Bar  \n",
       "2           Italian Restaurant           Cocktail Bar  \n",
       "3  Eastern European Restaurant    Dumpling Restaurant  \n",
       "4           Seafood Restaurant                  Beach  "
      ]
     },
     "execution_count": 183,
     "metadata": {},
     "output_type": "execute_result"
    }
   ],
   "source": [
    "# add clustering labels\n",
    "neighbourhoods_venues_sorted.insert(0, 'Cluster Labels', kmeans.labels_)\n",
    "\n",
    "toronto_merged = toronto_data\n",
    "\n",
    "# merge toronto_grouped with toronto_data to add latitude/longitude for each neighborhood\n",
    "toronto_merged = toronto_merged.join(neighbourhoods_venues_sorted.set_index('Neighbourhood'), on='Neighbourhood')\n",
    "\n",
    "toronto_merged.head() # check the last columns!"
   ]
  },
  {
   "cell_type": "markdown",
   "metadata": {},
   "source": [
    "#### Visualize the clusters"
   ]
  },
  {
   "cell_type": "code",
   "execution_count": 185,
   "metadata": {},
   "outputs": [
    {
     "data": {
      "text/html": [
       "<div style=\"width:100%;\"><div style=\"position:relative;width:100%;height:0;padding-bottom:60%;\"><iframe src=\"data:text/html;charset=utf-8;base64,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\" style=\"position:absolute;width:100%;height:100%;left:0;top:0;border:none !important;\" allowfullscreen webkitallowfullscreen mozallowfullscreen></iframe></div></div>"
      ],
      "text/plain": [
       "<folium.folium.Map at 0x7fb5d4883240>"
      ]
     },
     "execution_count": 185,
     "metadata": {},
     "output_type": "execute_result"
    }
   ],
   "source": [
    "# create map\n",
    "map_clusters = folium.Map(location=[latitude, longitude], zoom_start=11)\n",
    "\n",
    "# set color scheme for the clusters\n",
    "x = np.arange(kclusters)\n",
    "ys = [i + x + (i*x)**2 for i in range(kclusters)]\n",
    "colors_array = cm.rainbow(np.linspace(0, 1, len(ys)))\n",
    "rainbow = [colors.rgb2hex(i) for i in colors_array]\n",
    "\n",
    "# add markers to the map\n",
    "markers_colors = []\n",
    "for lat, lon, poi, cluster in zip(toronto_merged['Latitude'], toronto_merged['Longitude'], toronto_merged['Neighbourhood'], toronto_merged['Cluster Labels']):\n",
    "    label = folium.Popup(str(poi) + ' Cluster ' + str(cluster), parse_html=True)\n",
    "    folium.CircleMarker(\n",
    "        [lat, lon],\n",
    "        radius=5,\n",
    "        popup=label,\n",
    "        color=rainbow[cluster-1],\n",
    "        fill=True,\n",
    "        fill_color=rainbow[cluster-1],\n",
    "        fill_opacity=0.7).add_to(map_clusters)\n",
    "       \n",
    "map_clusters"
   ]
  },
  {
   "cell_type": "code",
   "execution_count": null,
   "metadata": {},
   "outputs": [],
   "source": []
  }
 ],
 "metadata": {
  "kernelspec": {
   "display_name": "Python",
   "language": "python",
   "name": "conda-env-python-py"
  },
  "language_info": {
   "codemirror_mode": {
    "name": "ipython",
    "version": 3
   },
   "file_extension": ".py",
   "mimetype": "text/x-python",
   "name": "python",
   "nbconvert_exporter": "python",
   "pygments_lexer": "ipython3",
   "version": "3.6.7"
  }
 },
 "nbformat": 4,
 "nbformat_minor": 4
}
